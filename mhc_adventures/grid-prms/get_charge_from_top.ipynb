{
 "cells": [
  {
   "cell_type": "code",
   "execution_count": 7,
   "metadata": {},
   "outputs": [],
   "source": [
    "import pandas as pd"
   ]
  },
  {
   "cell_type": "code",
   "execution_count": 28,
   "metadata": {},
   "outputs": [],
   "source": [
    "charges = []\n",
    "with open('../mol-prms/top_all22_prot.rtf', 'r') as f:\n",
    "    for line in f:\n",
    "        if line.startswith('ATOM'):\n",
    "            s = line.split()\n",
    "            charges.append((s[2], float(s[3])))"
   ]
  },
  {
   "cell_type": "code",
   "execution_count": 29,
   "metadata": {},
   "outputs": [],
   "source": [
    "table = pd.DataFrame(charges)\n",
    "table = table.groupby(0).describe()\n",
    "table.columns = table.columns.levels[1]"
   ]
  },
  {
   "cell_type": "code",
   "execution_count": 30,
   "metadata": {
    "scrolled": true
   },
   "outputs": [],
   "source": [
    "order = 'H,HC,HA,HP,HB,HR1,HR2,HR3,HS,HE1,HE2,C,\\\n",
    "CA,CT1,CT2,CT3,CPH1,CPH2,CPT,CY,CP1,CP2,CP3,CC,CD\\\n",
    ",CS,CE1,CE2,C3,N,NR1,NR2,NR3,NH1,NH2,NH3,NC2,NY,NP\\\n",
    ",O,OB,OC,OH1,OS,S,SM,SS'\n",
    "\n",
    "order = order.split(',')\n",
    "table = table.loc[order,:].fillna(0)"
   ]
  },
  {
   "cell_type": "code",
   "execution_count": 35,
   "metadata": {},
   "outputs": [],
   "source": [
    "table['pos_charge'] = map(lambda x: max(0, x), table['mean'])\n",
    "table['neg_charge'] = map(lambda x: abs(min(0, x)), table['mean'])"
   ]
  },
  {
   "cell_type": "code",
   "execution_count": 37,
   "metadata": {},
   "outputs": [],
   "source": [
    "table.to_csv('./top22_charges.csv', float_format='%.3f')"
   ]
  },
  {
   "cell_type": "code",
   "execution_count": null,
   "metadata": {},
   "outputs": [],
   "source": []
  }
 ],
 "metadata": {
  "kernelspec": {
   "display_name": "Python (mignatov)",
   "language": "python",
   "name": "mignatov"
  },
  "language_info": {
   "codemirror_mode": {
    "name": "ipython",
    "version": 2
   },
   "file_extension": ".py",
   "mimetype": "text/x-python",
   "name": "python",
   "nbconvert_exporter": "python",
   "pygments_lexer": "ipython2",
   "version": "2.7.13"
  }
 },
 "nbformat": 4,
 "nbformat_minor": 2
}
