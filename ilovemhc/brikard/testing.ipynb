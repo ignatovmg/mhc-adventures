{
 "cells": [
  {
   "cell_type": "code",
   "execution_count": 2,
   "metadata": {},
   "outputs": [],
   "source": [
    "import sys\n",
    "import os\n",
    "from glob import glob\n",
    "import pandas as pd\n",
    "\n",
    "from Bio.SeqUtils import seq1, seq3\n",
    "from Bio.Alphabet.IUPAC import IUPACProtein\n",
    "import numpy as np\n",
    "import subprocess\n",
    "from time import time, sleep\n",
    "from subprocess import Popen, check_output\n",
    "\n",
    "from path import Path\n",
    "\n",
    "import logging"
   ]
  },
  {
   "cell_type": "code",
   "execution_count": 3,
   "metadata": {},
   "outputs": [],
   "source": [
    "#logger = logging.getLogger(__name__)"
   ]
  },
  {
   "cell_type": "code",
   "execution_count": 4,
   "metadata": {},
   "outputs": [],
   "source": [
    "def check_file(path):\n",
    "    path = Path(path)\n",
    "    return not path.isfile() or path.size == 0"
   ]
  },
  {
   "cell_type": "code",
   "execution_count": 5,
   "metadata": {},
   "outputs": [],
   "source": [
    "def file_error(path):\n",
    "    if check_file(path):\n",
    "        #logging.error(\"%s doesn't exist or is empty\" % path)\n",
    "        raise OSError(\"%s doesn't exist or is empty\" % path)"
   ]
  },
  {
   "cell_type": "code",
   "execution_count": 9,
   "metadata": {},
   "outputs": [],
   "source": [
    "from ilovemhc import define\n",
    "from ilovemhc import utils\n",
    "from ilovemhc import wrappers"
   ]
  },
  {
   "cell_type": "code",
   "execution_count": 8,
   "metadata": {},
   "outputs": [
    {
     "data": {
      "text/plain": [
       "'/gpfs/projects/KozakovGroup/software/brikard/bin/assemble'"
      ]
     },
     "execution_count": 8,
     "metadata": {},
     "output_type": "execute_result"
    }
   ],
   "source": [
    "define.ASSEMBLE_EXE"
   ]
  },
  {
   "cell_type": "code",
   "execution_count": 16,
   "metadata": {},
   "outputs": [
    {
     "data": {
      "text/plain": [
       "u'/gpfs/projects/KozakovGroup/mhc_learning'"
      ]
     },
     "execution_count": 16,
     "metadata": {},
     "output_type": "execute_result"
    }
   ],
   "source": [
    "pwd"
   ]
  },
  {
   "cell_type": "code",
   "execution_count": 40,
   "metadata": {},
   "outputs": [],
   "source": [
    "reload(utils)\n",
    "#utils.match_ref_pdb(\"./mhc-adventures/ilovemhc/brikard/test/brikard.pdb\", \"./mhc-adventures/ilovemhc/brikard/test/ref.pdb\", {'H1': 'HT1', 'H1': 'HT2', 'H1': 'HT3', 'OXT': 'HT3'})\n"
   ]
  },
  {
   "cell_type": "code",
   "execution_count": 41,
   "metadata": {},
   "outputs": [],
   "source": [
    "utils.prepare_pdb22(\"./mhc-adventures/ilovemhc/brikard/test/ref.pdb\", \"./mhc-adventures/ilovemhc/brikard/test/charmm22\")"
   ]
  },
  {
   "cell_type": "code",
   "execution_count": 11,
   "metadata": {},
   "outputs": [
    {
     "name": "stderr",
     "output_type": "stream",
     "text": [
      "ERROR:root:\nUsage /gpfs/projects/KozakovGroup/software/minimization-libmol2/minimize_list [ prm ] [ rtf ] [ -pdb ] [ -psf ]\n         [ -rec-pdb ] [ -rec-psf  ] [ -lig-pdb  ] [ -lig-psf ]\n         [ -lig-jsn ] [ -protocol ] [ -gbsa     ] [ -verbose ]\n         [ -help    ] [ -nsteps   ] [ -out      ]\n\n--prm      - Parameter file (required)\n--rtf      - Topology file (required)\n--pdb      - Full molecule pdb file\n--psf      - Full molecule psf file\n--rec-pdb  - Receptor pdb file\n--rec-psf  - Receptor psf file\n--lig-pdb  - Ligand pdb file\n--lig-psf  - Ligand psf file\n--lig-jsn  - Ligand json file\n--out      - Minimized structure (default: min.pdb)\n--protocol - Protocol file\n--nsteps   - Number of minimization steps (default: 1000)\n--gbsa     - Turn GBSA on (default: off)\n--help     - This message\n\nPrm and rft are required. One of the following must be provided:\n\n\t * pdb and psf of the full molecule (--pdb --psf)\n\t * OR rec-pdb, rec-psf, lig-pdb and lig-psf\n\t * OR rec-pdb, rec-psf, lig-jsn\n\nProtocol file format:\n\n\tnumber_of_steps1 fixed_atoms_file1 pair_springs_file1 point_springs_file1\n\tnumber_of_steps2 fixed_atoms_file2 pair_springs_file2 point_springs_file2\n\t...\n\nPairwise springs file format:\n\n\tnumber_of_springs\n\tlength relative_error force_constant atom1_id(PDB) atom1_name atom2_id(PDB) atom2_name\n\t...\n\nPoint springs (attached to a single point) file format:\n\n\tnumber_of_springs\n\tnumber_of_atoms_attached force_constant X0 Y0 Z0\n\tatom1_id(from PDB) atom1_name\n\tatom2_id(from PDB) atom2_name\n\t...\n\nFixed atoms file format: simply a slice of pdb containing fixed atoms\n\nIf you wish to skip any of the files in the protocol file,\njust replace it with a dot. For instance if no fixed atoms\nare needed then the line should be \n\t1000 . spring_pairs spring_points\n\nCAREFUL: If ligand and receptor are specified separately,\n\tthen ligand atom ids need to be increased by the number of receptor atoms.\n\tCorrectness is verified by comparing atom names.\n\n\n"
     ]
    },
    {
     "ename": "CalledProcessError",
     "evalue": "Command '['/gpfs/projects/KozakovGroup/software/minimization-libmol2/minimize_list']' returned non-zero exit status 1",
     "traceback": [
      "\u001b[0;31m---------------------------------------------------------------------------\u001b[0m",
      "\u001b[0;31mCalledProcessError\u001b[0m                        Traceback (most recent call last)",
      "\u001b[0;32m<ipython-input-11-27818434a49b>\u001b[0m in \u001b[0;36m<module>\u001b[0;34m()\u001b[0m\n\u001b[0;32m----> 1\u001b[0;31m \u001b[0mwrappers\u001b[0m\u001b[0;34m.\u001b[0m\u001b[0mshell_call\u001b[0m\u001b[0;34m(\u001b[0m\u001b[0;34m[\u001b[0m\u001b[0mdefine\u001b[0m\u001b[0;34m.\u001b[0m\u001b[0mMINIMIZE_EXE\u001b[0m\u001b[0;34m]\u001b[0m\u001b[0;34m)\u001b[0m\u001b[0;34m\u001b[0m\u001b[0m\n\u001b[0m",
      "\u001b[0;32m/gpfs/projects/KozakovGroup/mhc_learning/mhc-adventures/ilovemhc/wrappers.pyc\u001b[0m in \u001b[0;36mshell_call\u001b[0;34m(call, *args, **kwargs)\u001b[0m\n\u001b[1;32m     32\u001b[0m     \u001b[0;32mtry\u001b[0m\u001b[0;34m:\u001b[0m\u001b[0;34m\u001b[0m\u001b[0m\n\u001b[1;32m     33\u001b[0m         \u001b[0mlogging\u001b[0m\u001b[0;34m.\u001b[0m\u001b[0mdebug\u001b[0m\u001b[0;34m(\u001b[0m\u001b[0;34m'Command executed: '\u001b[0m \u001b[0;34m+\u001b[0m \u001b[0mcmd_string\u001b[0m\u001b[0;34m)\u001b[0m\u001b[0;34m\u001b[0m\u001b[0m\n\u001b[0;32m---> 34\u001b[0;31m         \u001b[0moutput\u001b[0m \u001b[0;34m=\u001b[0m \u001b[0msubprocess\u001b[0m\u001b[0;34m.\u001b[0m\u001b[0mcheck_output\u001b[0m\u001b[0;34m(\u001b[0m\u001b[0mcall\u001b[0m\u001b[0;34m,\u001b[0m \u001b[0;34m*\u001b[0m\u001b[0margs\u001b[0m\u001b[0;34m,\u001b[0m \u001b[0;34m**\u001b[0m\u001b[0mkwargs\u001b[0m\u001b[0;34m)\u001b[0m\u001b[0;34m\u001b[0m\u001b[0m\n\u001b[0m\u001b[1;32m     35\u001b[0m     \u001b[0;32mexcept\u001b[0m \u001b[0mException\u001b[0m \u001b[0;32mas\u001b[0m \u001b[0me\u001b[0m\u001b[0;34m:\u001b[0m\u001b[0;34m\u001b[0m\u001b[0m\n\u001b[1;32m     36\u001b[0m         \u001b[0mlogging\u001b[0m\u001b[0;34m.\u001b[0m\u001b[0merror\u001b[0m\u001b[0;34m(\u001b[0m\u001b[0me\u001b[0m\u001b[0;34m.\u001b[0m\u001b[0moutput\u001b[0m\u001b[0;34m)\u001b[0m\u001b[0;34m\u001b[0m\u001b[0m\n",
      "\u001b[0;32m/gpfs/projects/KozakovGroup/conda/mignatov/lib/python2.7/subprocess.pyc\u001b[0m in \u001b[0;36mcheck_output\u001b[0;34m(*popenargs, **kwargs)\u001b[0m\n\u001b[1;32m    217\u001b[0m         \u001b[0;32mif\u001b[0m \u001b[0mcmd\u001b[0m \u001b[0;32mis\u001b[0m \u001b[0mNone\u001b[0m\u001b[0;34m:\u001b[0m\u001b[0;34m\u001b[0m\u001b[0m\n\u001b[1;32m    218\u001b[0m             \u001b[0mcmd\u001b[0m \u001b[0;34m=\u001b[0m \u001b[0mpopenargs\u001b[0m\u001b[0;34m[\u001b[0m\u001b[0;36m0\u001b[0m\u001b[0;34m]\u001b[0m\u001b[0;34m\u001b[0m\u001b[0m\n\u001b[0;32m--> 219\u001b[0;31m         \u001b[0;32mraise\u001b[0m \u001b[0mCalledProcessError\u001b[0m\u001b[0;34m(\u001b[0m\u001b[0mretcode\u001b[0m\u001b[0;34m,\u001b[0m \u001b[0mcmd\u001b[0m\u001b[0;34m,\u001b[0m \u001b[0moutput\u001b[0m\u001b[0;34m=\u001b[0m\u001b[0moutput\u001b[0m\u001b[0;34m)\u001b[0m\u001b[0;34m\u001b[0m\u001b[0m\n\u001b[0m\u001b[1;32m    220\u001b[0m     \u001b[0;32mreturn\u001b[0m \u001b[0moutput\u001b[0m\u001b[0;34m\u001b[0m\u001b[0m\n\u001b[1;32m    221\u001b[0m \u001b[0;34m\u001b[0m\u001b[0m\n",
      "\u001b[0;31mCalledProcessError\u001b[0m: Command '['/gpfs/projects/KozakovGroup/software/minimization-libmol2/minimize_list']' returned non-zero exit status 1"
     ],
     "output_type": "error"
    }
   ],
   "source": [
    "wrappers.shell_call([define.MINIMIZE_EXE])"
   ]
  },
  {
   "cell_type": "code",
   "execution_count": null,
   "metadata": {},
   "outputs": [],
   "source": []
  }
 ],
 "metadata": {
  "kernelspec": {
   "display_name": "Python (mignatov)",
   "language": "python",
   "name": "mignatov"
  },
  "language_info": {
   "codemirror_mode": {
    "name": "ipython",
    "version": 2
   },
   "file_extension": ".py",
   "mimetype": "text/x-python",
   "name": "python",
   "nbconvert_exporter": "python",
   "pygments_lexer": "ipython2",
   "version": "2.7.13"
  }
 },
 "nbformat": 4,
 "nbformat_minor": 2
}
