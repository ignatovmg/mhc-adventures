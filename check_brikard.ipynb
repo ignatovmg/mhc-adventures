{
 "cells": [
  {
   "cell_type": "code",
   "execution_count": 1,
   "metadata": {},
   "outputs": [],
   "source": [
    "from IPython.core.interactiveshell import InteractiveShell\n",
    "InteractiveShell.ast_node_interactivity = \"all\"\n",
    "import pandas as pd"
   ]
  },
  {
   "cell_type": "code",
   "execution_count": 2,
   "metadata": {},
   "outputs": [],
   "source": [
    "def get_named_tuple_from_pd_row(df):\n",
    "    row = df.itertuples(name='Row', index=False)\n",
    "    return  list(row)[0]"
   ]
  },
  {
   "cell_type": "code",
   "execution_count": 3,
   "metadata": {},
   "outputs": [
    {
     "data": {
      "text/plain": [
       "Row(dir='1fzk_FAPGNYPAL', mhc_path='/gpfs/projects/KozakovGroup/mhc_learning/gdomains/1fzk_mhc_ah.pdb', pep_path='/gpfs/projects/KozakovGroup/mhc_learning/gdomains/1fzk_pep_ah.pdb', length=9, tgroup=9, tpl_path='/gpfs/projects/KozakovGroup/mhc_learning/gdomains/1bz9_pep_ah.pdb', tpl_type='terminal', tpl='1bz9_FAPGVFPYM')"
      ]
     },
     "execution_count": 3,
     "metadata": {},
     "output_type": "execute_result"
    }
   ],
   "source": [
    "df = pd.read_csv('gdomains0104_9mers_clustered.csv')\n",
    "sample = get_named_tuple_from_pd_row(df[(df.dir == '1fzk_FAPGNYPAL')&(df.tpl == '1bz9_FAPGVFPYM')]) \n",
    "sample"
   ]
  },
  {
   "cell_type": "code",
   "execution_count": 4,
   "metadata": {},
   "outputs": [],
   "source": [
    "peptide = sample.dir.split('_')[1]\n",
    "mhc_path = sample.mhc_path\n",
    "tpl = sample.tpl_path"
   ]
  },
  {
   "cell_type": "code",
   "execution_count": 5,
   "metadata": {},
   "outputs": [],
   "source": [
    "from ilovemhc import wrappers\n",
    "from ilovemhc import define"
   ]
  },
  {
   "cell_type": "code",
   "execution_count": 6,
   "metadata": {},
   "outputs": [],
   "source": [
    "from pathlib import Path"
   ]
  },
  {
   "cell_type": "code",
   "execution_count": 7,
   "metadata": {},
   "outputs": [
    {
     "data": {
      "text/plain": [
       "PosixPath('/data/Projects/Laba/LPRJ2/mhc-adventures')"
      ]
     },
     "execution_count": 7,
     "metadata": {},
     "output_type": "execute_result"
    }
   ],
   "source": [
    "Path('.').resolve()"
   ]
  },
  {
   "cell_type": "code",
   "execution_count": 8,
   "metadata": {},
   "outputs": [
    {
     "data": {
      "text/plain": [
       "'/home/cubazis/Projects/Laba/LPRJ2/brikard_cash/bin/assemble'"
      ]
     },
     "execution_count": 8,
     "metadata": {},
     "output_type": "execute_result"
    },
    {
     "data": {
      "text/plain": [
       "'/home/cubazis/Projects/Laba/LPRJ2/brikard_cash/bin/brikard'"
      ]
     },
     "execution_count": 8,
     "metadata": {},
     "output_type": "execute_result"
    }
   ],
   "source": [
    "define.ASSEMBLE_EXE\n",
    "define.BRIKARD_EXE"
   ]
  },
  {
   "cell_type": "code",
   "execution_count": 9,
   "metadata": {},
   "outputs": [
    {
     "data": {
      "text/plain": [
       "PosixPath('/data/Projects/Laba/LPRJ2/mhc-adventures/a.mhc')"
      ]
     },
     "execution_count": 9,
     "metadata": {},
     "output_type": "execute_result"
    },
    {
     "data": {
      "text/plain": [
       "'a.mhc'"
      ]
     },
     "execution_count": 9,
     "metadata": {},
     "output_type": "execute_result"
    }
   ],
   "source": [
    "_a_file = Path('.').resolve().joinpath('a.mhc')\n",
    "a_file = _a_file.name\n",
    "_a_file\n",
    "a_file"
   ]
  },
  {
   "cell_type": "code",
   "execution_count": 10,
   "metadata": {},
   "outputs": [],
   "source": [
    "import subprocess\n",
    "from subprocess import Popen\n",
    "import os\n",
    "import logging\n",
    "import shutil\n",
    "def shell_call(call, shell=False, *args, **kwargs):\n",
    "    cmd_string = call\n",
    "    if not shell:\n",
    "        cmd_string = ' '.join(cmd_string)\n",
    "\n",
    "    try:\n",
    "        print 'Command executed: ' + cmd_string\n",
    "        output = subprocess.check_output(call, shell=shell, *args, **kwargs)\n",
    "    except subprocess.CalledProcessError as e:\n",
    "        print e\n",
    "        raise"
   ]
  },
  {
   "cell_type": "code",
   "execution_count": 11,
   "metadata": {},
   "outputs": [
    {
     "name": "stdout",
     "output_type": "stream",
     "text": [
      "Command executed: /home/cubazis/Projects/Laba/LPRJ2/brikard_cash/bin/assemble a.mhc\n",
      "[' Input Sobol seed (if blank, taken from assemble.in):\\n', ' init_level =           0\\n', '      ===========================================\\n', '      BRIKARD version 1.6       February 27, 2019\\n', ' \\n', '      (Builder for Recursive Inverse Kinematic\\n', '       Assembly and Ring Design)\\n', ' \\n', '      Copyright (c) 2013-2019 by\\n', '      Evangelos A. Coutsias and Michael J. Wester\\n', '      ===========================================\\n', ' \\n', 'Chain: two loops\\n', '\\n', 'library path: /data/Projects/Laba/LPRJ2/brikard_cash/lib\\n', '\\n', './mol.mol2 (NOT cyclic):\\n', '\\n', '   1 PHE am\\n', '   2 ALA am\\n', '   3 PRO am\\n', '   4 GLY am\\n', '   5 ASN am\\n', '   6 TYR am\\n', '   7 PRO am\\n', '   8 ALA am\\n', '   9 LEU   \\n', '\\n', 'Read 59 amino acids (48 natural) + capping residues = 62\\n', '\\n', './mol.mol2:  132 atoms in   9 residues and 1 molecule chains\\n', '\\n', '\\n', './mol.mol2:  132 atoms in   9 residues and 1 molecule chains\\n', '\\n', 'Residues subject to rotamer replacement (6):\\n', ' 1 3 5 6 7 9\\n', 'Initializing Rotamer library ...\\n', '\\n', 'BEGIN Refinement Intervals\\n', 'NOTE: de novo molecule!!!\\n', 'END Refinement Intervals\\n', '\\n', 'Cr..._Rama500_Array_Res2:  34.222% nonzero   2 ALA -180, 180 x -180, 180\\n', 'Cr..._Rama500_Array_Res2:  23.451% nonzero   3 PRO -180, 180 x -180, 180\\n', 'Cr..._Rama500_Array_Res2:  23.451% nonzero   7 PRO -180, 180 x -180, 180\\n', 'Cr..._Rama500_Array_Res2:  67.840% nonzero   8 ALA -180, 180 x -180, 180\\n', 'Cr..._Rama500_Array_Res1:  69.444% nonzero (4 ->    *,   -7)\\n', '                                             9 LEU -180, 180 x -180, 180\\n', 'Rama500_DT_Init dihedrals:\\n', '0 0 0 - 3 3 0 - 2 2 0 - -1 -1 0 - -1 -1 0 - -1 -1 0 - 2 2 0 - 4 4 0 - 6 0 0\\n', '\\n', 'Key: -1 (pivot), 0 (not sampled)\\n', '     1 (GLY), 2 (PRO), 3 (prePRO), 4 (general), 5 (phi fixed), 6 (psi fixed)\\n', '     7 (phi maximal), 8 (psi maximal), 9 (non-phi/psi), 10 (S-S)\\n', '\\n', ' P2: n_ATOMs, n_bb_atoms, nRESIDUEs =          132          27           9\\n', '\\n', ' Ramachandran check of initial molecule:\\n', '\\n', 'loop indices =   1   27\\n', 'n_loop(1) = 27\\n', ' node_loop:           10          11          13          14          16          17\\n', ' ipiv_loop:           11          14          17\\n', 'Bridgeable gap for loop 1:\\n', '   20.190130212556824      , loop_length =   24.796248325099508     \\n', ' *** difference =   4.6061181125426849     \\n', 'main LL1, LL2, LL3a, LL3b, LL3 =   4   4   11   11   22\\n', 'Print_Test_Molecule (test0)\\n', 'Print_Test_Molecule (test1)\\n', '=== BEGIN sampling ===\\n', 'Verify_Chain_Internal_Coords: 1 (internal vs measured)\\n', '>>> ### <<<\\n', '(  1) BondLength    =   -1.000   24.796\\n', '>>> ### <<<\\n', '(  1) ExternalAngle =  237.296  165.198\\n', '>>> ### <<<\\n', '(  2) ExternalAngle =  237.296  129.240\\n', '>>> ### <<<\\n', '(  2) DihedralAngle =  -57.296  144.253\\n', 'Print_Test_Molecule (test)\\n', 'Inconsistencies found in chain vs measured!\\n', ' First lead found!\\n', '7 --- solutions: loops = 8, leads = 1, trials = 1, accepted = 1\\n', '   clash = 0\\n', '7 --- solutions: loops = 8, leads = 1, trials = 1, accepted = 2\\n', '   clash = 0\\n', '7 --- solutions: loops = 8, leads = 1, trials = 1, accepted = 3\\n', '   clash = 0\\n', '\\n', '7 --- solutions: loops = 8, leads = 1, trials = 1, accepted = 3\\n', '   clash = 0\\n', 'Rejections: clash = 0 (bbplus = 0)\\n', '\\n', '--- Computed solutions (total, bad, good, % bad, % good) ---\\n', 'bb_loop  1    :          8          0          8     0.000%   100.000%\\n', 'survived      :          8\\n', '\\n', 'InitializeBrikard        =      0.096 seconds\\n', 'RunBrikard pre-sampling  =      3.346 seconds\\n', 'RunBrikard sampling loop =      0.008 seconds\\n', '- - - - - - - - - - - - - - - - - - - - - - -\\n', 'method = 0          loop =      0.000 seconds\\n', '---------------------------------------------\\n', 'TOTAL                    =      3.450 seconds\\n']\n"
     ]
    }
   ],
   "source": [
    "shell_call([define.ASSEMBLE_EXE, a_file])\n",
    "echo = subprocess.Popen(('echo', str(42)), stdout=subprocess.PIPE)\n",
    "process = Popen(define.BRIKARD_EXE, stdin=echo.stdout, stdout=subprocess.PIPE)\n",
    "output = process.stdout.readlines()\n",
    "print output"
   ]
  },
  {
   "cell_type": "code",
   "execution_count": 12,
   "metadata": {},
   "outputs": [
    {
     "data": {
      "text/plain": [
       "'/home/cubazis/Projects/Laba/LPRJ2/brikard_cash/bin/brikard'"
      ]
     },
     "execution_count": 12,
     "metadata": {},
     "output_type": "execute_result"
    }
   ],
   "source": [
    "define.BRIKARD_EXE"
   ]
  }
 ],
 "metadata": {
  "kernelspec": {
   "display_name": "Python 2",
   "language": "python",
   "name": "python2"
  },
  "language_info": {
   "codemirror_mode": {
    "name": "ipython",
    "version": 2
   },
   "file_extension": ".py",
   "mimetype": "text/x-python",
   "name": "python",
   "nbconvert_exporter": "python",
   "pygments_lexer": "ipython2",
   "version": "2.7.16"
  }
 },
 "nbformat": 4,
 "nbformat_minor": 2
}
