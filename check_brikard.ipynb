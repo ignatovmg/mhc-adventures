{
 "cells": [
  {
   "cell_type": "code",
   "execution_count": 29,
   "metadata": {},
   "outputs": [],
   "source": [
    "from IPython.core.interactiveshell import InteractiveShell\n",
    "InteractiveShell.ast_node_interactivity = \"all\"\n",
    "import pandas as pd"
   ]
  },
  {
   "cell_type": "code",
   "execution_count": 30,
   "metadata": {},
   "outputs": [],
   "source": [
    "def get_named_tuple_from_pd_row(df):\n",
    "    row = df.itertuples(name='Row', index=False)\n",
    "    return  list(row)[0]"
   ]
  },
  {
   "cell_type": "code",
   "execution_count": 31,
   "metadata": {},
   "outputs": [
    {
     "data": {
      "text/plain": [
       "Row(dir='1fzk_FAPGNYPAL', mhc_path='/gpfs/projects/KozakovGroup/mhc_learning/gdomains/1fzk_mhc_ah.pdb', pep_path='/gpfs/projects/KozakovGroup/mhc_learning/gdomains/1fzk_pep_ah.pdb', length=9, tgroup=9, tpl_path='/gpfs/projects/KozakovGroup/mhc_learning/gdomains/1bz9_pep_ah.pdb', tpl_type='terminal', tpl='1bz9_FAPGVFPYM')"
      ]
     },
     "execution_count": 31,
     "metadata": {},
     "output_type": "execute_result"
    }
   ],
   "source": [
    "df = pd.read_csv('gdomains0104_9mers_clustered.csv')\n",
    "sample = get_named_tuple_from_pd_row(df[(df.dir == '1fzk_FAPGNYPAL')&(df.tpl == '1bz9_FAPGVFPYM')]) \n",
    "sample"
   ]
  },
  {
   "cell_type": "code",
   "execution_count": 32,
   "metadata": {},
   "outputs": [],
   "source": [
    "peptide = sample.dir.split('_')[1]\n",
    "mhc_path = sample.mhc_path\n",
    "tpl = sample.tpl_path"
   ]
  },
  {
   "cell_type": "code",
   "execution_count": 33,
   "metadata": {},
   "outputs": [],
   "source": [
    "from pathlib import Path"
   ]
  },
  {
   "cell_type": "code",
   "execution_count": 34,
   "metadata": {},
   "outputs": [
    {
     "data": {
      "text/plain": [
       "PosixPath('/home/cubazis/projects/mhc-adventures')"
      ]
     },
     "execution_count": 34,
     "metadata": {},
     "output_type": "execute_result"
    }
   ],
   "source": [
    "Path('.').resolve()"
   ]
  },
  {
   "cell_type": "code",
   "execution_count": 35,
   "metadata": {},
   "outputs": [],
   "source": [
    "ASSEMBLE_EXE = '/gpfs/software/brikard_cash/bin/assemble'\n",
    "BRIKARD_EXE = '/gpfs/software/brikard_cash/bin/brikard'"
   ]
  },
  {
   "cell_type": "code",
   "execution_count": 36,
   "metadata": {},
   "outputs": [
    {
     "data": {
      "text/plain": [
       "PosixPath('/home/cubazis/projects/mhc-adventures/a.mhc')"
      ]
     },
     "execution_count": 36,
     "metadata": {},
     "output_type": "execute_result"
    },
    {
     "data": {
      "text/plain": [
       "'a.mhc'"
      ]
     },
     "execution_count": 36,
     "metadata": {},
     "output_type": "execute_result"
    }
   ],
   "source": [
    "_a_file = Path('.').resolve().joinpath('a.mhc')\n",
    "a_file = _a_file.name\n",
    "_a_file\n",
    "a_file"
   ]
  },
  {
   "cell_type": "code",
   "execution_count": 37,
   "metadata": {},
   "outputs": [],
   "source": [
    "import subprocess\n",
    "from subprocess import Popen\n",
    "import os\n",
    "import logging\n",
    "import shutil\n",
    "def shell_call(call, shell=False, *args, **kwargs):\n",
    "    cmd_string = call\n",
    "    if not shell:\n",
    "        cmd_string = ' '.join(cmd_string)\n",
    "\n",
    "    try:\n",
    "        print('Command executed: ' + cmd_string)\n",
    "        output = subprocess.check_output(call, shell=shell, *args, **kwargs)\n",
    "    except subprocess.CalledProcessError as e:\n",
    "        print(e)\n",
    "        raise"
   ]
  },
  {
   "cell_type": "code",
   "execution_count": 39,
   "metadata": {},
   "outputs": [
    {
     "name": "stdout",
     "output_type": "stream",
     "text": [
      "Command executed: /gpfs/software/brikard_cash/bin/assemble /home/cubazis/projects/mhc-adventures/a.mhc\n",
      "[b' Input Sobol seed (if blank, taken from assemble.in):\\n', b' init_level =           0\\n', b'      ===========================================\\n', b'      BRIKARD version 1.6       February 27, 2019\\n', b' \\n', b'      (Builder for Recursive Inverse Kinematic\\n', b'       Assembly and Ring Design)\\n', b' \\n', b'      Copyright (c) 2013-2019 by\\n', b'      Evangelos A. Coutsias and Michael J. Wester\\n', b'      ===========================================\\n', b' \\n', b'Chain: two loops\\n', b'\\n', b'library path: /gpfs/software/brikard_cash/lib\\n', b'\\n', b'./mol.mol2 (NOT cyclic):\\n', b'\\n', b'   1 PHE am\\n', b'   2 ALA am\\n', b'   3 PRO am\\n', b'   4 GLY am\\n', b'   5 ASN am\\n', b'   6 TYR am\\n', b'   7 PRO am\\n', b'   8 ALA am\\n', b'   9 LEU   \\n', b'\\n', b'Read 59 amino acids (48 natural) + capping residues = 62\\n', b'\\n', b'./mol.mol2:  132 atoms in   9 residues and 1 molecule chains\\n', b'\\n', b'\\n', b'./mol.mol2:  132 atoms in   9 residues and 1 molecule chains\\n', b'\\n', b'Residues subject to rotamer replacement (6):\\n', b' 1 3 5 6 7 9\\n', b'Initializing Rotamer library ...\\n', b'\\n', b'BEGIN Refinement Intervals\\n', b'NOTE: de novo molecule!!!\\n', b'END Refinement Intervals\\n', b'\\n', b'Cr..._Rama500_Array_Res2:  34.222% nonzero   2 ALA -180, 180 x -180, 180\\n', b'Cr..._Rama500_Array_Res2:  23.451% nonzero   3 PRO -180, 180 x -180, 180\\n', b'Cr..._Rama500_Array_Res2:  23.451% nonzero   7 PRO -180, 180 x -180, 180\\n', b'Cr..._Rama500_Array_Res2:  67.840% nonzero   8 ALA -180, 180 x -180, 180\\n', b'Cr..._Rama500_Array_Res1:  69.444% nonzero (4 ->    *,   -7)\\n', b'                                             9 LEU -180, 180 x -180, 180\\n', b'Rama500_DT_Init dihedrals:\\n', b'0 0 0 - 3 3 0 - 2 2 0 - -1 -1 0 - -1 -1 0 - -1 -1 0 - 2 2 0 - 4 4 0 - 6 0 0\\n', b'\\n', b'Key: -1 (pivot), 0 (not sampled)\\n', b'     1 (GLY), 2 (PRO), 3 (prePRO), 4 (general), 5 (phi fixed), 6 (psi fixed)\\n', b'     7 (phi maximal), 8 (psi maximal), 9 (non-phi/psi), 10 (S-S)\\n', b'\\n', b' P2: n_ATOMs, n_bb_atoms, nRESIDUEs =          132          27           9\\n', b'\\n', b' Ramachandran check of initial molecule:\\n', b'\\n', b'loop indices =   1   27\\n', b'n_loop(1) = 27\\n', b' node_loop:           10          11          13          14          16          17\\n', b' ipiv_loop:           11          14          17\\n', b'Bridgeable gap for loop 1:\\n', b'   20.190130212556824      , loop_length =   24.796248325099508     \\n', b' *** difference =   4.6061181125426849     \\n', b'main LL1, LL2, LL3a, LL3b, LL3 =   4   4   11   11   22\\n', b'Print_Test_Molecule (test0)\\n', b'Print_Test_Molecule (test1)\\n', b'=== BEGIN sampling ===\\n', b'Verify_Chain_Internal_Coords: 1 (internal vs measured)\\n', b'>>> ### <<<\\n', b'(  1) BondLength    =   -1.000   24.796\\n', b'>>> ### <<<\\n', b'(  1) ExternalAngle =  237.296  165.198\\n', b'>>> ### <<<\\n', b'(  2) ExternalAngle =  237.296  129.240\\n', b'>>> ### <<<\\n', b'(  2) DihedralAngle =  -57.296  144.253\\n', b'Print_Test_Molecule (test)\\n', b'Inconsistencies found in chain vs measured!\\n', b' First lead found!\\n', b'7 --- solutions: loops = 8, leads = 1, trials = 1, accepted = 1\\n', b'   clash = 0\\n', b'7 --- solutions: loops = 8, leads = 1, trials = 1, accepted = 2\\n', b'   clash = 0\\n', b'7 --- solutions: loops = 8, leads = 1, trials = 1, accepted = 3\\n', b'   clash = 0\\n', b'\\n', b'7 --- solutions: loops = 8, leads = 1, trials = 1, accepted = 3\\n', b'   clash = 0\\n', b'Rejections: clash = 0 (bbplus = 0)\\n', b'\\n', b'--- Computed solutions (total, bad, good, % bad, % good) ---\\n', b'bb_loop  1    :          8          0          8     0.000%   100.000%\\n', b'survived      :          8\\n', b'\\n', b'InitializeBrikard        =      0.056 seconds\\n', b'RunBrikard pre-sampling  =      4.193 seconds\\n', b'RunBrikard sampling loop =      0.009 seconds\\n', b'- - - - - - - - - - - - - - - - - - - - - - -\\n', b'method = 0          loop =      0.000 seconds\\n', b'---------------------------------------------\\n', b'TOTAL                    =      4.257 seconds\\n']\n"
     ]
    }
   ],
   "source": [
    "shell_call([ASSEMBLE_EXE, _a_file.as_posix()])\n",
    "echo = subprocess.Popen(('echo', str(42)), stdout=subprocess.PIPE)\n",
    "process = Popen(BRIKARD_EXE, stdin=echo.stdout, stdout=subprocess.PIPE)\n",
    "output = process.stdout.readlines()\n",
    "print(output)"
   ]
  }
 ],
 "metadata": {
  "kernelspec": {
   "display_name": "Python 3",
   "language": "python",
   "name": "python3"
  },
  "language_info": {
   "codemirror_mode": {
    "name": "ipython",
    "version": 3
   },
   "file_extension": ".py",
   "mimetype": "text/x-python",
   "name": "python",
   "nbconvert_exporter": "python",
   "pygments_lexer": "ipython3",
   "version": "3.7.3"
  }
 },
 "nbformat": 4,
 "nbformat_minor": 2
}
